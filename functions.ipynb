{
 "cells": [
  {
   "cell_type": "markdown",
   "id": "7080c1f9",
   "metadata": {},
   "source": [
    "# define functions and returning values"
   ]
  },
  {
   "cell_type": "code",
   "execution_count": 1,
   "id": "bfc347f7",
   "metadata": {},
   "outputs": [
    {
     "name": "stdout",
     "output_type": "stream",
     "text": [
      "black dove , where will you go?\n"
     ]
    }
   ],
   "source": [
    "print('black dove , where will you go?')"
   ]
  },
  {
   "cell_type": "code",
   "execution_count": 2,
   "id": "216cb97c",
   "metadata": {},
   "outputs": [
    {
     "data": {
      "text/plain": [
       "int"
      ]
     },
     "execution_count": 2,
     "metadata": {},
     "output_type": "execute_result"
    }
   ],
   "source": [
    "number = 15\n",
    "type(number)"
   ]
  },
  {
   "cell_type": "code",
   "execution_count": 3,
   "id": "2b77f14a",
   "metadata": {},
   "outputs": [
    {
     "data": {
      "text/plain": [
       "str"
      ]
     },
     "execution_count": 3,
     "metadata": {},
     "output_type": "execute_result"
    }
   ],
   "source": [
    "number = str(number)\n",
    "type(number)"
   ]
  },
  {
   "cell_type": "code",
   "execution_count": 4,
   "id": "e5eaf703",
   "metadata": {},
   "outputs": [],
   "source": [
    "def greeting(name):\n",
    "    print('Welcome ' + name + '!' )\n",
    "    print('you are part of the team')\n",
    "    "
   ]
  },
  {
   "cell_type": "code",
   "execution_count": 5,
   "id": "7076b02c",
   "metadata": {},
   "outputs": [
    {
     "name": "stdout",
     "output_type": "stream",
     "text": [
      "Welcome Ali!\n",
      "you are part of the team\n"
     ]
    }
   ],
   "source": [
    "greeting('Ali')"
   ]
  },
  {
   "cell_type": "code",
   "execution_count": 6,
   "id": "1b90ef38",
   "metadata": {},
   "outputs": [],
   "source": [
    "def area_triandle(base , height):\n",
    "    return base * height / 2"
   ]
  },
  {
   "cell_type": "code",
   "execution_count": 7,
   "id": "a21fe9c4",
   "metadata": {},
   "outputs": [
    {
     "data": {
      "text/plain": [
       "25.5"
      ]
     },
     "execution_count": 7,
     "metadata": {},
     "output_type": "execute_result"
    }
   ],
   "source": [
    "area_a = area_triandle(5,6)\n",
    "area_b = area_triandle(7, 3)\n",
    "\n",
    "total_area = area_a + area_b \n",
    "total_area"
   ]
  },
  {
   "cell_type": "code",
   "execution_count": 8,
   "id": "e5684dc0",
   "metadata": {},
   "outputs": [],
   "source": [
    "def get_seconds(hours, minutes , seconds):\n",
    "    total_seconds = 3600*hours + 60*minutes + seconds\n",
    "    return total_seconds"
   ]
  },
  {
   "cell_type": "code",
   "execution_count": 9,
   "id": "99db287e",
   "metadata": {},
   "outputs": [
    {
     "data": {
      "text/plain": [
       "86400"
      ]
     },
     "execution_count": 9,
     "metadata": {},
     "output_type": "execute_result"
    }
   ],
   "source": [
    "get_seconds(23,59,60)"
   ]
  },
  {
   "cell_type": "code",
   "execution_count": 3,
   "id": "a5b297fe",
   "metadata": {},
   "outputs": [
    {
     "name": "stdout",
     "output_type": "stream",
     "text": [
      "hello ALiyour lucky number is 27\n",
      "hello Ahmedyour lucky number is 45\n"
     ]
    }
   ],
   "source": [
    "name = \"ALi\"\n",
    "number = len(name)*9\n",
    "print(\"hello \" + name + \"your lucky number is \"+ str(number) )\n",
    "\n",
    "\n",
    "name = \"Ahmed\"\n",
    "number = len(name)*9\n",
    "print(\"hello \" + name + \"your lucky number is \" + str(number) )\n"
   ]
  },
  {
   "cell_type": "code",
   "execution_count": 5,
   "id": "02622216",
   "metadata": {},
   "outputs": [
    {
     "name": "stdout",
     "output_type": "stream",
     "text": [
      "hello Ali your lucky number is 27\n",
      "hello Ahmed your lucky number is 45\n"
     ]
    }
   ],
   "source": [
    "def luck_number(name):\n",
    "    number = len(name)*9\n",
    "    print('hello ' + name + ' your lucky number is ' + str(number))\n",
    "    \n",
    "\n",
    "luck_number('Ali')\n",
    "luck_number('Ahmed')"
   ]
  },
  {
   "cell_type": "code",
   "execution_count": 9,
   "id": "f7013578",
   "metadata": {},
   "outputs": [
    {
     "name": "stdout",
     "output_type": "stream",
     "text": [
      "5\n",
      "120\n"
     ]
    }
   ],
   "source": [
    "def factorial(n):\n",
    "    y = 1\n",
    "    for i in range(int(n)):\n",
    "        y = y*(i+1)\n",
    "    return y\n",
    "    \n",
    "input_num = input()\n",
    "print(factorial(input_num))"
   ]
  },
  {
   "cell_type": "code",
   "execution_count": 10,
   "id": "e74280f6",
   "metadata": {},
   "outputs": [],
   "source": [
    "def seed_calculator(founction_side , grass_width):\n",
    "    founction_area = founction_side**2\n",
    "    total_area = (founction_side + 2 * grass_width) ** 2 \n",
    "    grass_area = total_area - founction_area\n",
    "    seed = grass_area * 35\n",
    "    seed = seed / 1000\n",
    "    return seed"
   ]
  },
  {
   "cell_type": "code",
   "execution_count": 11,
   "id": "6361c4fa",
   "metadata": {},
   "outputs": [
    {
     "data": {
      "text/plain": [
       "8.96"
      ]
     },
     "execution_count": 11,
     "metadata": {},
     "output_type": "execute_result"
    }
   ],
   "source": [
    "seed_calculator(12 , 4)"
   ]
  },
  {
   "cell_type": "code",
   "execution_count": null,
   "id": "16ffebe3",
   "metadata": {},
   "outputs": [],
   "source": []
  }
 ],
 "metadata": {
  "kernelspec": {
   "display_name": "Python 3 (ipykernel)",
   "language": "python",
   "name": "python3"
  },
  "language_info": {
   "codemirror_mode": {
    "name": "ipython",
    "version": 3
   },
   "file_extension": ".py",
   "mimetype": "text/x-python",
   "name": "python",
   "nbconvert_exporter": "python",
   "pygments_lexer": "ipython3",
   "version": "3.11.3"
  }
 },
 "nbformat": 4,
 "nbformat_minor": 5
}
