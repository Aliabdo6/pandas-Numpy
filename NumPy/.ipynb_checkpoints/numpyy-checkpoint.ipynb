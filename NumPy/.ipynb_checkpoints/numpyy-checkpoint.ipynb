{
 "cells": [
  {
   "cell_type": "markdown",
   "id": "52951c22",
   "metadata": {},
   "source": [
    "![Numpy](https://i0.wp.com/www.ozgurozkok.com/wp-content/uploads/2019/12/numpy-python.png?fit=765%2C306&ssl=1)"
   ]
  },
  {
   "cell_type": "markdown",
   "id": "a891830a",
   "metadata": {},
   "source": [
    "NumPy is a powerful Python library for numerical computing. It stands for \"Numerical Python\" and provides efficient mechanisms to perform mathematical and logical operations on arrays or large multidimensional data sets.\n",
    "\n",
    "Here are some reasons why NumPy is widely used:\n",
    "\n",
    "1. **Efficient array operations**: NumPy provides an `ndarray` (n-dimensional array) object that allows you to perform fast computations on large datasets efficiently. The underlying implementation of NumPy arrays is written in C, which makes it faster than using built-in Python data structures like lists.\n",
    "\n",
    "2. **Vectorized operations**: NumPy enables vectorized operations, which means performing operations on entire arrays rather than looping through individual elements. This approach significantly improves computation speed and code readability.\n",
    "\n",
    "3. **Broad range of mathematical functions**: NumPy offers a wide range of mathematical functions, such as trigonometric functions, exponential functions, linear algebra operations, statistical functions, and more. These functions are optimized for performance and can handle arrays as inputs, making complex numerical computations easier.\n",
    "\n",
    "4. **Memory efficiency**: NumPy arrays require less memory compared to Python lists. This efficiency is due to the homogeneous type of elements in an array, which allows for better memory allocation and utilization.\n",
    "\n",
    "5. **Integration with other libraries**: NumPy serves as the foundation for many other scientific computing and data analysis libraries in Python, such as SciPy (scientific computing), pandas (data manipulation), scikit-learn (machine learning), and matplotlib (plotting). These libraries often rely on NumPy arrays as a common data structure, allowing seamless integration and interoperability.\n",
    "\n",
    "Overall, NumPy's simplicity, speed, and extensive functionality make it an essential tool for scientific computing, numerical analysis, and data manipulation tasks in Python.\n"
   ]
  },
  {
   "cell_type": "markdown",
   "id": "0a05ddfd",
   "metadata": {},
   "source": [
    "# let`s have some fun by writeing code"
   ]
  },
  {
   "cell_type": "code",
   "execution_count": 2,
   "id": "a7c5e0a6",
   "metadata": {},
   "outputs": [],
   "source": [
    "import numpy as np"
   ]
  },
  {
   "cell_type": "markdown",
   "id": "00819b29",
   "metadata": {},
   "source": [
    "# DataTypes % Attributes"
   ]
  },
  {
   "cell_type": "markdown",
   "id": "4c9e5f77",
   "metadata": {},
   "source": [
    "The main data type used in NumPy is the `ndarray` (n-dimensional array) object. This object represents a multidimensional, homogeneous array of fixed-size items. The elements within an `ndarray` are typically numbers (integers, floats) but can also be other data types like booleans or strings.\n",
    "\n",
    "NumPy provides several built-in data types that you can use when creating arrays, including:\n",
    "\n",
    "- **integers**: `int8`, `int16`, `int32`, `int64`, `uint8`, `uint16`, `uint32`, `uint64`\n",
    "- **floating-point numbers**: `float16`, `float32`, `float64`\n",
    "- **complex numbers**: `complex64`, `complex128`\n",
    "- **booleans**: `bool`\n",
    "- **strings**: `str`\n",
    "\n",
    "You can specify the data type when creating an array using the `dtype` parameter. For example, to create an array of integers, you can use `numpy.array([...], dtype=int)`.\n",
    "\n",
    "By default, if a data type is not explicitly specified, NumPy will infer the data type based on the values provided. For example, if you pass a list of integers to create an array, NumPy will assign the `int64` data type to the array.\n",
    "\n",
    "Using appropriate data types in NumPy arrays allows for efficient memory usage and optimized computational performance. You can also perform various mathematical and logical operations on arrays with different data types, as NumPy handles automatic type conversion when necessary.\n"
   ]
  },
  {
   "cell_type": "code",
   "execution_count": 3,
   "id": "45745905",
   "metadata": {},
   "outputs": [
    {
     "data": {
      "text/plain": [
       "array([1, 2, 3, 4])"
      ]
     },
     "execution_count": 3,
     "metadata": {},
     "output_type": "execute_result"
    }
   ],
   "source": [
    "a1 = np.array([1,2,3,4])\n",
    "a1"
   ]
  },
  {
   "cell_type": "code",
   "execution_count": 4,
   "id": "56a63a6d",
   "metadata": {},
   "outputs": [
    {
     "data": {
      "text/plain": [
       "numpy.ndarray"
      ]
     },
     "execution_count": 4,
     "metadata": {},
     "output_type": "execute_result"
    }
   ],
   "source": [
    "type(a1)"
   ]
  },
  {
   "cell_type": "code",
   "execution_count": 5,
   "id": "183d4ffc",
   "metadata": {},
   "outputs": [],
   "source": [
    "a2 = np.array([[1,2.3,3.3],\n",
    "                [4,5.6,7.8]])\n",
    "\n",
    "a3 = np.array([[[1,2,3],\n",
    "               [4,5,6],\n",
    "               [7,8,9]],\n",
    "               [[10,11,12],\n",
    "                [13,14,15],\n",
    "                [16,17,18]\n",
    "               ]])"
   ]
  },
  {
   "cell_type": "code",
   "execution_count": 6,
   "id": "c1c7a8ba",
   "metadata": {},
   "outputs": [
    {
     "data": {
      "text/plain": [
       "array([[1. , 2.3, 3.3],\n",
       "       [4. , 5.6, 7.8]])"
      ]
     },
     "execution_count": 6,
     "metadata": {},
     "output_type": "execute_result"
    }
   ],
   "source": [
    "a2"
   ]
  },
  {
   "cell_type": "code",
   "execution_count": 7,
   "id": "f75ce8eb",
   "metadata": {},
   "outputs": [
    {
     "data": {
      "text/plain": [
       "array([[[ 1,  2,  3],\n",
       "        [ 4,  5,  6],\n",
       "        [ 7,  8,  9]],\n",
       "\n",
       "       [[10, 11, 12],\n",
       "        [13, 14, 15],\n",
       "        [16, 17, 18]]])"
      ]
     },
     "execution_count": 7,
     "metadata": {},
     "output_type": "execute_result"
    }
   ],
   "source": [
    "a3"
   ]
  },
  {
   "cell_type": "markdown",
   "id": "824652cf",
   "metadata": {},
   "source": [
    "![anatomy of a numpy array](numpy-anatomy-of-an-array-updated.png)"
   ]
  },
  {
   "cell_type": "code",
   "execution_count": 9,
   "id": "ce82a61e",
   "metadata": {},
   "outputs": [
    {
     "data": {
      "text/plain": [
       "(4,)"
      ]
     },
     "execution_count": 9,
     "metadata": {},
     "output_type": "execute_result"
    }
   ],
   "source": [
    "a1.shape"
   ]
  },
  {
   "cell_type": "code",
   "execution_count": 10,
   "id": "5c90e7e9",
   "metadata": {},
   "outputs": [
    {
     "data": {
      "text/plain": [
       "(2, 3)"
      ]
     },
     "execution_count": 10,
     "metadata": {},
     "output_type": "execute_result"
    }
   ],
   "source": [
    "a2.shape"
   ]
  },
  {
   "cell_type": "code",
   "execution_count": 11,
   "id": "48dfffaf",
   "metadata": {},
   "outputs": [
    {
     "data": {
      "text/plain": [
       "(2, 3, 3)"
      ]
     },
     "execution_count": 11,
     "metadata": {},
     "output_type": "execute_result"
    }
   ],
   "source": [
    "a3.shape"
   ]
  },
  {
   "cell_type": "code",
   "execution_count": 12,
   "id": "56ddfaec",
   "metadata": {},
   "outputs": [
    {
     "data": {
      "text/plain": [
       "(1, 2, 3)"
      ]
     },
     "execution_count": 12,
     "metadata": {},
     "output_type": "execute_result"
    }
   ],
   "source": [
    "a1.ndim , a2.ndim , a3.ndim"
   ]
  },
  {
   "cell_type": "code",
   "execution_count": 13,
   "id": "5db85ce7",
   "metadata": {},
   "outputs": [
    {
     "data": {
      "text/plain": [
       "(dtype('int32'), dtype('float64'), dtype('int32'))"
      ]
     },
     "execution_count": 13,
     "metadata": {},
     "output_type": "execute_result"
    }
   ],
   "source": [
    "a1.dtype , a2.dtype , a3.dtype"
   ]
  },
  {
   "cell_type": "code",
   "execution_count": 14,
   "id": "41212718",
   "metadata": {},
   "outputs": [
    {
     "data": {
      "text/plain": [
       "(4, 6, 18)"
      ]
     },
     "execution_count": 14,
     "metadata": {},
     "output_type": "execute_result"
    }
   ],
   "source": [
    "a1.size , a2.size , a3.size"
   ]
  },
  {
   "cell_type": "code",
   "execution_count": 15,
   "id": "c6b930c6",
   "metadata": {},
   "outputs": [
    {
     "data": {
      "text/plain": [
       "(numpy.ndarray, numpy.ndarray, numpy.ndarray)"
      ]
     },
     "execution_count": 15,
     "metadata": {},
     "output_type": "execute_result"
    }
   ],
   "source": [
    "type(a1) , type(a2) , type(a3)"
   ]
  },
  {
   "cell_type": "markdown",
   "id": "37eb9dfa",
   "metadata": {},
   "source": [
    "# Create a DataFrame from a numpy array "
   ]
  },
  {
   "cell_type": "code",
   "execution_count": 18,
   "id": "20fb49d4",
   "metadata": {},
   "outputs": [],
   "source": [
    "import pandas as pd \n",
    "dp = pd.DataFrame(a2)"
   ]
  },
  {
   "cell_type": "code",
   "execution_count": 19,
   "id": "3392d059",
   "metadata": {},
   "outputs": [
    {
     "data": {
      "text/html": [
       "<div>\n",
       "<style scoped>\n",
       "    .dataframe tbody tr th:only-of-type {\n",
       "        vertical-align: middle;\n",
       "    }\n",
       "\n",
       "    .dataframe tbody tr th {\n",
       "        vertical-align: top;\n",
       "    }\n",
       "\n",
       "    .dataframe thead th {\n",
       "        text-align: right;\n",
       "    }\n",
       "</style>\n",
       "<table border=\"1\" class=\"dataframe\">\n",
       "  <thead>\n",
       "    <tr style=\"text-align: right;\">\n",
       "      <th></th>\n",
       "      <th>0</th>\n",
       "      <th>1</th>\n",
       "      <th>2</th>\n",
       "    </tr>\n",
       "  </thead>\n",
       "  <tbody>\n",
       "    <tr>\n",
       "      <th>0</th>\n",
       "      <td>1.0</td>\n",
       "      <td>2.3</td>\n",
       "      <td>3.3</td>\n",
       "    </tr>\n",
       "    <tr>\n",
       "      <th>1</th>\n",
       "      <td>4.0</td>\n",
       "      <td>5.6</td>\n",
       "      <td>7.8</td>\n",
       "    </tr>\n",
       "  </tbody>\n",
       "</table>\n",
       "</div>"
      ],
      "text/plain": [
       "     0    1    2\n",
       "0  1.0  2.3  3.3\n",
       "1  4.0  5.6  7.8"
      ]
     },
     "execution_count": 19,
     "metadata": {},
     "output_type": "execute_result"
    }
   ],
   "source": [
    "dp"
   ]
  },
  {
   "cell_type": "markdown",
   "id": "d2b0cf92",
   "metadata": {},
   "source": [
    "# 2 Createing numpy arrays "
   ]
  },
  {
   "cell_type": "code",
   "execution_count": 20,
   "id": "20dcfb0f",
   "metadata": {},
   "outputs": [
    {
     "data": {
      "text/plain": [
       "array([1, 2, 3, 4, 5, 6, 7])"
      ]
     },
     "execution_count": 20,
     "metadata": {},
     "output_type": "execute_result"
    }
   ],
   "source": [
    "sample_array = np.array([1,2,3,4,5,6,7])\n",
    "sample_array"
   ]
  },
  {
   "cell_type": "code",
   "execution_count": 21,
   "id": "4620c13a",
   "metadata": {},
   "outputs": [
    {
     "data": {
      "text/plain": [
       "dtype('int32')"
      ]
     },
     "execution_count": 21,
     "metadata": {},
     "output_type": "execute_result"
    }
   ],
   "source": [
    "sample_array.dtype"
   ]
  },
  {
   "cell_type": "code",
   "execution_count": 22,
   "id": "ebbef43e",
   "metadata": {},
   "outputs": [],
   "source": [
    "# what is ones() \n",
    "# Signature: np.ones(shape, dtype=None, order='C', *, like=None)\n",
    "# Docstring:\n",
    "# Return a new array of given shape and type, filled with ones.\n",
    "ones = np.ones((2,3))"
   ]
  },
  {
   "cell_type": "code",
   "execution_count": 23,
   "id": "ef997e73",
   "metadata": {},
   "outputs": [
    {
     "data": {
      "text/plain": [
       "array([[1., 1., 1.],\n",
       "       [1., 1., 1.]])"
      ]
     },
     "execution_count": 23,
     "metadata": {},
     "output_type": "execute_result"
    }
   ],
   "source": [
    "ones"
   ]
  },
  {
   "cell_type": "code",
   "execution_count": 24,
   "id": "39997c9d",
   "metadata": {},
   "outputs": [
    {
     "data": {
      "text/plain": [
       "dtype('float64')"
      ]
     },
     "execution_count": 24,
     "metadata": {},
     "output_type": "execute_result"
    }
   ],
   "source": [
    "ones.dtype"
   ]
  },
  {
   "cell_type": "code",
   "execution_count": 25,
   "id": "f76551c7",
   "metadata": {},
   "outputs": [
    {
     "data": {
      "text/plain": [
       "numpy.ndarray"
      ]
     },
     "execution_count": 25,
     "metadata": {},
     "output_type": "execute_result"
    }
   ],
   "source": [
    "type(ones)"
   ]
  },
  {
   "cell_type": "code",
   "execution_count": 26,
   "id": "d3ae9ec3",
   "metadata": {},
   "outputs": [],
   "source": [
    "zeros = np.zeros((2,3))"
   ]
  },
  {
   "cell_type": "code",
   "execution_count": 27,
   "id": "3e9551ac",
   "metadata": {},
   "outputs": [
    {
     "data": {
      "text/plain": [
       "array([[0., 0., 0.],\n",
       "       [0., 0., 0.]])"
      ]
     },
     "execution_count": 27,
     "metadata": {},
     "output_type": "execute_result"
    }
   ],
   "source": [
    "zeros"
   ]
  },
  {
   "cell_type": "code",
   "execution_count": 28,
   "id": "7fcb4e49",
   "metadata": {},
   "outputs": [
    {
     "data": {
      "text/plain": [
       "array([0, 2, 4, 6, 8])"
      ]
     },
     "execution_count": 28,
     "metadata": {},
     "output_type": "execute_result"
    }
   ],
   "source": [
    "range_array = np.arange(0,10,2)\n",
    "range_array"
   ]
  },
  {
   "cell_type": "code",
   "execution_count": 30,
   "id": "1c5ff58a",
   "metadata": {},
   "outputs": [],
   "source": [
    "random_array = np.random.randint(0,10 , size=(3,5))"
   ]
  },
  {
   "cell_type": "code",
   "execution_count": 31,
   "id": "3c9f7bf3",
   "metadata": {},
   "outputs": [
    {
     "data": {
      "text/plain": [
       "array([[3, 2, 7, 9, 3],\n",
       "       [9, 5, 5, 4, 0],\n",
       "       [0, 1, 2, 5, 1]])"
      ]
     },
     "execution_count": 31,
     "metadata": {},
     "output_type": "execute_result"
    }
   ],
   "source": [
    "random_array"
   ]
  },
  {
   "cell_type": "code",
   "execution_count": 32,
   "id": "c3b67923",
   "metadata": {},
   "outputs": [
    {
     "data": {
      "text/plain": [
       "15"
      ]
     },
     "execution_count": 32,
     "metadata": {},
     "output_type": "execute_result"
    }
   ],
   "source": [
    "random_array.size"
   ]
  },
  {
   "cell_type": "code",
   "execution_count": 33,
   "id": "902cbfe2",
   "metadata": {},
   "outputs": [
    {
     "data": {
      "text/plain": [
       "(3, 5)"
      ]
     },
     "execution_count": 33,
     "metadata": {},
     "output_type": "execute_result"
    }
   ],
   "source": [
    "random_array.shape"
   ]
  },
  {
   "cell_type": "code",
   "execution_count": 35,
   "id": "42518275",
   "metadata": {},
   "outputs": [
    {
     "data": {
      "text/plain": [
       "array([[0.44331227, 0.51503014, 0.43072236],\n",
       "       [0.37472011, 0.5890353 , 0.50093851],\n",
       "       [0.8682029 , 0.30189261, 0.18825259],\n",
       "       [0.86008427, 0.10538799, 0.52925097],\n",
       "       [0.02361121, 0.19452401, 0.42481604]])"
      ]
     },
     "execution_count": 35,
     "metadata": {},
     "output_type": "execute_result"
    }
   ],
   "source": [
    "random_array_2 =  np.random.random((5,3))\n",
    "random_array_2"
   ]
  },
  {
   "cell_type": "code",
   "execution_count": 36,
   "id": "c296bd62",
   "metadata": {},
   "outputs": [
    {
     "data": {
      "text/plain": [
       "(5, 3)"
      ]
     },
     "execution_count": 36,
     "metadata": {},
     "output_type": "execute_result"
    }
   ],
   "source": [
    "random_array_2.shape"
   ]
  },
  {
   "cell_type": "code",
   "execution_count": 37,
   "id": "9772c0bf",
   "metadata": {},
   "outputs": [
    {
     "data": {
      "text/plain": [
       "array([[0.68093627, 0.00456693, 0.21074756],\n",
       "       [0.12145168, 0.95355744, 0.10688254],\n",
       "       [0.91867184, 0.55429314, 0.81236283],\n",
       "       [0.01554035, 0.98768174, 0.43019453],\n",
       "       [0.83303057, 0.79568959, 0.11637072]])"
      ]
     },
     "execution_count": 37,
     "metadata": {},
     "output_type": "execute_result"
    }
   ],
   "source": [
    "random_array_3 = np.random.rand(5,3)\n",
    "random_array_3"
   ]
  },
  {
   "cell_type": "code",
   "execution_count": 42,
   "id": "bee54b67",
   "metadata": {},
   "outputs": [
    {
     "data": {
      "text/plain": [
       "array([[9, 3, 4],\n",
       "       [0, 9, 1],\n",
       "       [9, 1, 4],\n",
       "       [1, 8, 2],\n",
       "       [4, 2, 5]])"
      ]
     },
     "execution_count": 42,
     "metadata": {},
     "output_type": "execute_result"
    }
   ],
   "source": [
    " np.random.seed(6)\n",
    "\n",
    "random_array_4 = np.random.randint(10 , size=(5,3))\n",
    "random_array_4"
   ]
  },
  {
   "cell_type": "code",
   "execution_count": 44,
   "id": "f1c39f57",
   "metadata": {},
   "outputs": [
    {
     "data": {
      "text/plain": [
       "array([[2, 7, 8],\n",
       "       [5, 6, 3],\n",
       "       [5, 1, 2],\n",
       "       [3, 6, 9],\n",
       "       [9, 8, 0]])"
      ]
     },
     "execution_count": 44,
     "metadata": {},
     "output_type": "execute_result"
    }
   ],
   "source": [
    "random_array_4 = np.random.randint(10 , size=(5,3))\n",
    "random_array_4"
   ]
  },
  {
   "cell_type": "code",
   "execution_count": 39,
   "id": "39cd129d",
   "metadata": {},
   "outputs": [
    {
     "data": {
      "text/plain": [
       "(5, 3)"
      ]
     },
     "execution_count": 39,
     "metadata": {},
     "output_type": "execute_result"
    }
   ],
   "source": [
    "random_array_4.shape"
   ]
  },
  {
   "cell_type": "markdown",
   "id": "43167b79",
   "metadata": {},
   "source": [
    "np.random.seed() is a function provided by the NumPy library in Python. It is used to set the seed value for the random number generator in NumPy. The random number generator is responsible for generating pseudo-random numbers.\n",
    "\n",
    "By setting the seed value using np.random.seed(), you can ensure that the sequence of random numbers generated by NumPy is reproducible. This means that if you set the same seed value, you will get the same sequence of random numbers every time you run the program."
   ]
  },
  {
   "cell_type": "markdown",
   "id": "43704080",
   "metadata": {},
   "source": [
    "# 3- Viewing arras and matrices"
   ]
  },
  {
   "cell_type": "code",
   "execution_count": 46,
   "id": "6aad2c77",
   "metadata": {},
   "outputs": [
    {
     "data": {
      "text/plain": [
       "array([[2, 7, 8],\n",
       "       [5, 6, 3],\n",
       "       [5, 1, 2],\n",
       "       [3, 6, 9],\n",
       "       [9, 8, 0]])"
      ]
     },
     "execution_count": 46,
     "metadata": {},
     "output_type": "execute_result"
    }
   ],
   "source": [
    "random_array_4"
   ]
  },
  {
   "cell_type": "code",
   "execution_count": 47,
   "id": "fc1cd359",
   "metadata": {},
   "outputs": [
    {
     "data": {
      "text/plain": [
       "array([0, 1, 2, 3, 5, 6, 7, 8, 9])"
      ]
     },
     "execution_count": 47,
     "metadata": {},
     "output_type": "execute_result"
    }
   ],
   "source": [
    "np.unique(random_array_4)"
   ]
  },
  {
   "cell_type": "code",
   "execution_count": 48,
   "id": "d9ee1ff2",
   "metadata": {},
   "outputs": [
    {
     "data": {
      "text/plain": [
       "1"
      ]
     },
     "execution_count": 48,
     "metadata": {},
     "output_type": "execute_result"
    }
   ],
   "source": [
    "a1[0]"
   ]
  },
  {
   "cell_type": "code",
   "execution_count": 49,
   "id": "55e67974",
   "metadata": {},
   "outputs": [
    {
     "data": {
      "text/plain": [
       "array([1. , 2.3, 3.3])"
      ]
     },
     "execution_count": 49,
     "metadata": {},
     "output_type": "execute_result"
    }
   ],
   "source": [
    "a2[0]"
   ]
  },
  {
   "cell_type": "code",
   "execution_count": 50,
   "id": "35c6375b",
   "metadata": {},
   "outputs": [
    {
     "data": {
      "text/plain": [
       "array([[1, 2, 3],\n",
       "       [4, 5, 6],\n",
       "       [7, 8, 9]])"
      ]
     },
     "execution_count": 50,
     "metadata": {},
     "output_type": "execute_result"
    }
   ],
   "source": [
    "a3[0]"
   ]
  },
  {
   "cell_type": "code",
   "execution_count": 51,
   "id": "f5036759",
   "metadata": {},
   "outputs": [
    {
     "data": {
      "text/plain": [
       "((4,), (2, 3), (2, 3, 3))"
      ]
     },
     "execution_count": 51,
     "metadata": {},
     "output_type": "execute_result"
    }
   ],
   "source": [
    "a1.shape , a2.shape, a3.shape"
   ]
  },
  {
   "cell_type": "code",
   "execution_count": 52,
   "id": "a98a82cf",
   "metadata": {},
   "outputs": [
    {
     "data": {
      "text/plain": [
       "array([[[ 1,  2,  3],\n",
       "        [ 4,  5,  6],\n",
       "        [ 7,  8,  9]],\n",
       "\n",
       "       [[10, 11, 12],\n",
       "        [13, 14, 15],\n",
       "        [16, 17, 18]]])"
      ]
     },
     "execution_count": 52,
     "metadata": {},
     "output_type": "execute_result"
    }
   ],
   "source": [
    "a3"
   ]
  },
  {
   "cell_type": "code",
   "execution_count": 53,
   "id": "d51fcfa8",
   "metadata": {},
   "outputs": [
    {
     "data": {
      "text/plain": [
       "array([[[ 1,  2],\n",
       "        [ 4,  5]],\n",
       "\n",
       "       [[10, 11],\n",
       "        [13, 14]]])"
      ]
     },
     "execution_count": 53,
     "metadata": {},
     "output_type": "execute_result"
    }
   ],
   "source": [
    "a3[:2 , :2 , :2]"
   ]
  },
  {
   "cell_type": "code",
   "execution_count": 54,
   "id": "5c2d6149",
   "metadata": {},
   "outputs": [
    {
     "data": {
      "text/plain": [
       "array([[[[3, 7, 4, 8, 1],\n",
       "         [2, 4, 1, 5, 5],\n",
       "         [6, 1, 9, 0, 5],\n",
       "         [8, 9, 1, 2, 2]],\n",
       "\n",
       "        [[9, 5, 4, 1, 6],\n",
       "         [3, 1, 4, 9, 8],\n",
       "         [4, 6, 2, 9, 6],\n",
       "         [2, 5, 2, 7, 5]],\n",
       "\n",
       "        [[1, 1, 7, 5, 4],\n",
       "         [2, 8, 8, 7, 8],\n",
       "         [0, 8, 9, 2, 0],\n",
       "         [7, 6, 0, 7, 5]]],\n",
       "\n",
       "\n",
       "       [[[1, 8, 5, 9, 6],\n",
       "         [3, 7, 7, 5, 3],\n",
       "         [8, 7, 3, 5, 9],\n",
       "         [3, 8, 0, 7, 7]],\n",
       "\n",
       "        [[0, 3, 5, 3, 2],\n",
       "         [3, 4, 9, 0, 8],\n",
       "         [6, 3, 2, 1, 6],\n",
       "         [8, 8, 9, 0, 7]],\n",
       "\n",
       "        [[6, 0, 1, 8, 5],\n",
       "         [9, 8, 5, 9, 1],\n",
       "         [1, 2, 9, 9, 5],\n",
       "         [6, 4, 0, 4, 2]]]])"
      ]
     },
     "execution_count": 54,
     "metadata": {},
     "output_type": "execute_result"
    }
   ],
   "source": [
    "a4 = np.random.randint(10 , size=(2,3,4,5))\n",
    "a4"
   ]
  },
  {
   "cell_type": "code",
   "execution_count": 55,
   "id": "4a4dd524",
   "metadata": {},
   "outputs": [
    {
     "data": {
      "text/plain": [
       "(2, 3, 4, 5)"
      ]
     },
     "execution_count": 55,
     "metadata": {},
     "output_type": "execute_result"
    }
   ],
   "source": [
    "a4.shape"
   ]
  },
  {
   "cell_type": "code",
   "execution_count": 56,
   "id": "95a2f332",
   "metadata": {},
   "outputs": [
    {
     "data": {
      "text/plain": [
       "3"
      ]
     },
     "execution_count": 56,
     "metadata": {},
     "output_type": "execute_result"
    }
   ],
   "source": [
    "a3.ndim"
   ]
  },
  {
   "cell_type": "code",
   "execution_count": 58,
   "id": "ca52169a",
   "metadata": {},
   "outputs": [
    {
     "data": {
      "text/plain": [
       "array([[[[3],\n",
       "         [2],\n",
       "         [6],\n",
       "         [8]],\n",
       "\n",
       "        [[9],\n",
       "         [3],\n",
       "         [4],\n",
       "         [2]],\n",
       "\n",
       "        [[1],\n",
       "         [2],\n",
       "         [0],\n",
       "         [7]]],\n",
       "\n",
       "\n",
       "       [[[1],\n",
       "         [3],\n",
       "         [8],\n",
       "         [3]],\n",
       "\n",
       "        [[0],\n",
       "         [3],\n",
       "         [6],\n",
       "         [8]],\n",
       "\n",
       "        [[6],\n",
       "         [9],\n",
       "         [1],\n",
       "         [6]]]])"
      ]
     },
     "execution_count": 58,
     "metadata": {},
     "output_type": "execute_result"
    }
   ],
   "source": [
    "a4[: , : , : ,:1]"
   ]
  },
  {
   "cell_type": "code",
   "execution_count": null,
   "id": "3b08c914",
   "metadata": {},
   "outputs": [],
   "source": []
  }
 ],
 "metadata": {
  "kernelspec": {
   "display_name": "Python 3 (ipykernel)",
   "language": "python",
   "name": "python3"
  },
  "language_info": {
   "codemirror_mode": {
    "name": "ipython",
    "version": 3
   },
   "file_extension": ".py",
   "mimetype": "text/x-python",
   "name": "python",
   "nbconvert_exporter": "python",
   "pygments_lexer": "ipython3",
   "version": "3.10.10"
  }
 },
 "nbformat": 4,
 "nbformat_minor": 5
}
